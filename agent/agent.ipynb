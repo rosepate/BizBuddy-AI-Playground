{
 "cells": [
  {
   "cell_type": "code",
   "execution_count": 1,
   "id": "c88021d2",
   "metadata": {},
   "outputs": [],
   "source": [
    "from langchain_openai import ChatOpenAI\n",
    "from langchain_experimental.agents import create_pandas_dataframe_agent\n",
    "from langchain.memory import ConversationBufferMemory\n",
    "import pandas as pd\n",
    "import os\n",
    "from dotenv import load_dotenv\n"
   ]
  },
  {
   "cell_type": "code",
   "execution_count": null,
   "id": "b93af7d3",
   "metadata": {},
   "outputs": [],
   "source": [
    "def load_agent():\n",
    "    load_dotenv()\n",
    "    api_key = os.getenv(\"OPENAI_API_KEY\")\n",
    "    os.environ[\"OPENAI_API_KEY\"] = api_key\n",
    "\n",
    "    \n",
    "    "
   ]
  },
  {
   "cell_type": "code",
   "execution_count": 13,
   "id": "5c5863c8",
   "metadata": {},
   "outputs": [],
   "source": [
    "# Load from Google Sheet CSV\n",
    "\n",
    "sheet_url = \"https://docs.google.com/spreadsheets/d/1ISS7IQOMPrAEqU7lnpJYM5W2zd4oynntnmMTiokiVNU/export?format=csv\"\n",
    "df = pd.read_csv(sheet_url)\n"
   ]
  },
  {
   "cell_type": "code",
   "execution_count": 14,
   "id": "1ba46c76",
   "metadata": {},
   "outputs": [
    {
     "name": "stdout",
     "output_type": "stream",
     "text": [
      "📊 DataFrame loaded with columns: ['Transaction_ID', 'Date', 'Product', 'Category', 'Units_Sold', 'Inventory_After', 'Location', 'Platform', 'Payment_Method', 'Product_Expiry_Date', 'Unit_Price', 'Cost_Price', 'Revenue', 'Profit']\n"
     ]
    }
   ],
   "source": [
    "# Print column names\n",
    "print(\"📊 DataFrame loaded with columns:\", df.columns.tolist())\n"
   ]
  },
  {
   "cell_type": "code",
   "execution_count": 15,
   "id": "4c3d2620",
   "metadata": {},
   "outputs": [],
   "source": [
    "# 🛡️ Handle date column gracefully\n",
    "if \"Order Date\" in df.columns:\n",
    "        df.rename(columns={\"Order Date\": \"Date\"}, inplace=True)\n",
    "\n",
    "if \"Date\" in df.columns:\n",
    "        try:\n",
    "            df[\"Date\"] = pd.to_datetime(df[\"Date\"], errors='coerce')\n",
    "        except Exception as e:\n",
    "            print(\"⚠️ Date conversion error:\", e)"
   ]
  },
  {
   "cell_type": "code",
   "execution_count": 16,
   "id": "b9899a04",
   "metadata": {},
   "outputs": [],
   "source": [
    "# ✅ Check for important columns needed for analytics\n",
    "required_cols = ['Date', 'Product', 'Category', 'Units_Sold', 'Inventory_After', 'Location', 'Platform', 'Payment_Method', 'Product_Expiry_Date', 'Unit_Price', 'Cost_Price', 'Revenue', 'Profit']\n",
    "missing_cols = [col for col in required_cols if col not in df.columns]\n",
    "if missing_cols:\n",
    "    print(f\"⚠️ Missing key columns: {missing_cols}\")\n"
   ]
  },
  {
   "cell_type": "code",
   "execution_count": 17,
   "id": "6fe8c56a",
   "metadata": {},
   "outputs": [
    {
     "name": "stdout",
     "output_type": "stream",
     "text": [
      "🧾 Columns in dataset: ['Transaction_ID', 'Date', 'Product', 'Category', 'Units_Sold', 'Inventory_After', 'Location', 'Platform', 'Payment_Method', 'Product_Expiry_Date', 'Unit_Price', 'Cost_Price', 'Revenue', 'Profit']\n",
      "🔍 Sample rows:\n",
      "                          Transaction_ID       Date           Product  \\\n",
      "0  01a02c0d-1161-4db0-b0d0-f5cb084ada1c 2024-07-20   Loratadine 10mg   \n",
      "1  33f7b73b-3304-40b1-a171-f5aae1d0d6a1 2024-01-30   Loratadine 10mg   \n",
      "2  b9c60d7c-2066-4aa4-9aac-b190ca6c6d4d 2024-12-15   Omeprazole 20mg   \n",
      "3  e3e34832-0f6a-456d-9d09-22551497fc91 2024-11-23  Vitamin C 1000mg   \n",
      "4  02e1030c-791d-469f-913e-8c9792a75c02 2024-08-15   Ibuprofen 200mg   \n",
      "\n",
      "      Category  Units_Sold  Inventory_After  Location  Platform  \\\n",
      "0      Allergy           3               59  Hamilton    Online   \n",
      "1      Allergy           6               57   Markham    Online   \n",
      "2      Acidity           5               56   Toronto    Online   \n",
      "3     Vitamins           9               52    Ottawa  In-store   \n",
      "4  Pain Relief           7               53   Markham    Online   \n",
      "\n",
      "  Payment_Method Product_Expiry_Date  Unit_Price  Cost_Price  Revenue  Profit  \n",
      "0            UPI          2026-07-20          49          22      147      81  \n",
      "1      Insurance          2026-01-29          45          22      270     138  \n",
      "2            UPI          2026-06-08          52          25      260     135  \n",
      "3           Cash          2026-05-17          69           3      621     594  \n",
      "4           Cash          2026-08-15          46          25      322     147  \n",
      "🔍 Sample data:\n",
      "                          Transaction_ID       Date           Product  \\\n",
      "0  01a02c0d-1161-4db0-b0d0-f5cb084ada1c 2024-07-20   Loratadine 10mg   \n",
      "1  33f7b73b-3304-40b1-a171-f5aae1d0d6a1 2024-01-30   Loratadine 10mg   \n",
      "2  b9c60d7c-2066-4aa4-9aac-b190ca6c6d4d 2024-12-15   Omeprazole 20mg   \n",
      "3  e3e34832-0f6a-456d-9d09-22551497fc91 2024-11-23  Vitamin C 1000mg   \n",
      "4  02e1030c-791d-469f-913e-8c9792a75c02 2024-08-15   Ibuprofen 200mg   \n",
      "\n",
      "      Category  Units_Sold  Inventory_After  Location  Platform  \\\n",
      "0      Allergy           3               59  Hamilton    Online   \n",
      "1      Allergy           6               57   Markham    Online   \n",
      "2      Acidity           5               56   Toronto    Online   \n",
      "3     Vitamins           9               52    Ottawa  In-store   \n",
      "4  Pain Relief           7               53   Markham    Online   \n",
      "\n",
      "  Payment_Method Product_Expiry_Date  Unit_Price  Cost_Price  Revenue  Profit  \n",
      "0            UPI          2026-07-20          49          22      147      81  \n",
      "1      Insurance          2026-01-29          45          22      270     138  \n",
      "2            UPI          2026-06-08          52          25      260     135  \n",
      "3           Cash          2026-05-17          69           3      621     594  \n",
      "4           Cash          2026-08-15          46          25      322     147  \n"
     ]
    }
   ],
   "source": [
    "# 🧾 Show columns and preview data\n",
    "print(\"🧾 Columns in dataset:\", df.columns.tolist())\n",
    "print(\"🔍 Sample rows:\\n\", df.head())\n",
    "# ✅ Ensure all required columns are present\n",
    "for col in required_cols:\n",
    "        if col not in df.columns:\n",
    "            raise ValueError(f\"Missing required column: {col}\")\n",
    "# ✅ Print first few rows for debugging\n",
    "print(\"🔍 Sample data:\\n\", df.head()\n",
    "        )"
   ]
  },
  {
   "cell_type": "code",
   "execution_count": 18,
   "id": "7c481257",
   "metadata": {},
   "outputs": [
    {
     "name": "stdout",
     "output_type": "stream",
     "text": [
      "🧾 Columns in dataset: ['Transaction_ID', 'Date', 'Product', 'Category', 'Units_Sold', 'Inventory_After', 'Location', 'Platform', 'Payment_Method', 'Product_Expiry_Date', 'Unit_Price', 'Cost_Price', 'Revenue', 'Profit']\n"
     ]
    }
   ],
   "source": [
    " # ✅ Print column list for debugging\n",
    "print(\"🧾 Columns in dataset:\", df.columns.tolist())"
   ]
  },
  {
   "cell_type": "code",
   "execution_count": 23,
   "id": "4535fa55",
   "metadata": {},
   "outputs": [
    {
     "ename": "IndentationError",
     "evalue": "unexpected indent (1495738433.py, line 14)",
     "output_type": "error",
     "traceback": [
      "  \u001b[36mCell\u001b[39m\u001b[36m \u001b[39m\u001b[32mIn[23]\u001b[39m\u001b[32m, line 14\u001b[39m\n\u001b[31m    \u001b[39m\u001b[31mreturn agent\u001b[39m\n    ^\n\u001b[31mIndentationError\u001b[39m\u001b[31m:\u001b[39m unexpected indent\n"
     ]
    }
   ],
   "source": [
    "    # Set up the agent\n",
    "llm = ChatOpenAI(model=\"gpt-3.5-turbo\", temperature=0)\n",
    "memory = ConversationBufferMemory(memory_key=\"chat_history\", return_messages=True)\n",
    "\n",
    "agent = create_pandas_dataframe_agent(\n",
    "        llm,\n",
    "        df,\n",
    "        verbose=True,\n",
    "        memory=memory,\n",
    "        handle_parsing_errors=True,\n",
    "        agent_type=\"openai-tools\",\n",
    "        allow_dangerous_code=True,\n",
    "    )\n",
    "    return agent\n",
    "\n",
    "if __name__ == \"__main__\":\n",
    "    agent = load_agent()\n",
    "    response = agent.invoke(\"What are the top 3 selling products by total number of sale?\")\n",
    "    print(response)"
   ]
  },
  {
   "cell_type": "code",
   "execution_count": 22,
   "id": "dc22d608",
   "metadata": {},
   "outputs": [
    {
     "ename": "SyntaxError",
     "evalue": "'return' outside function (291716018.py, line 1)",
     "output_type": "error",
     "traceback": [
      "  \u001b[36mCell\u001b[39m\u001b[36m \u001b[39m\u001b[32mIn[22]\u001b[39m\u001b[32m, line 1\u001b[39m\n\u001b[31m    \u001b[39m\u001b[31mreturn agent\u001b[39m\n    ^\n\u001b[31mSyntaxError\u001b[39m\u001b[31m:\u001b[39m 'return' outside function\n"
     ]
    }
   ],
   "source": [
    "return agent"
   ]
  }
 ],
 "metadata": {
  "kernelspec": {
   "display_name": "venv",
   "language": "python",
   "name": "python3"
  },
  "language_info": {
   "codemirror_mode": {
    "name": "ipython",
    "version": 3
   },
   "file_extension": ".py",
   "mimetype": "text/x-python",
   "name": "python",
   "nbconvert_exporter": "python",
   "pygments_lexer": "ipython3",
   "version": "3.11.9"
  }
 },
 "nbformat": 4,
 "nbformat_minor": 5
}
